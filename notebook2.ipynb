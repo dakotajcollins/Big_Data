{
  "nbformat": 4,
  "nbformat_minor": 2,
  "metadata": {
    "colab": {
      "name": "notebook2.ipynb",
      "provenance": []
    },
    "kernelspec": {
      "name": "python3",
      "display_name": "Python 3"
    },
    "language_info": {
      "name": "python"
    }
  },
  "cells": [
    {
      "cell_type": "code",
      "execution_count": null,
      "source": [
        "import os\n",
        "# Find the latest version of spark 3.0  from http://www.apache.org/dist/spark/ and enter as the spark version\n",
        "# For example:\n",
        "# spark_version = 'spark-3.0.3'\n",
        "spark_version = 'spark-3.2.0'\n",
        "os.environ['SPARK_VERSION']=spark_version\n",
        "\n",
        "# Install Spark and Java\n",
        "!apt-get update\n",
        "!apt-get install openjdk-8-jdk-headless -qq > /dev/null\n",
        "!wget -q http://www.apache.org/dist/spark/$SPARK_VERSION/$SPARK_VERSION-bin-hadoop2.7.tgz\n",
        "!tar xf $SPARK_VERSION-bin-hadoop2.7.tgz\n",
        "!pip install -q findspark\n",
        "\n",
        "# Set Environment Variables\n",
        "os.environ[\"JAVA_HOME\"] = \"/usr/lib/jvm/java-8-openjdk-amd64\"\n",
        "os.environ[\"SPARK_HOME\"] = f\"/content/{spark_version}-bin-hadoop2.7\"\n",
        "\n",
        "# Start a SparkSession\n",
        "import findspark\n",
        "findspark.init()\n",
        "import config.py"
      ],
      "outputs": [],
      "metadata": {
        "id": "ZBgG57L_9d6w"
      }
    },
    {
      "cell_type": "code",
      "execution_count": null,
      "source": [
        "!wget https://jdbc.postgresql.org/download/postgresql-42.2.9.jar"
      ],
      "outputs": [],
      "metadata": {
        "id": "cr1HBAug9qKu"
      }
    },
    {
      "cell_type": "code",
      "execution_count": null,
      "source": [
        "# Start Spark session\n",
        "from pyspark.sql import SparkSession\n",
        "spark = SparkSession.builder.appName(\"ETL\").config(\"spark.driver\",\"/content/postgresql-42.2.9.jar\").getOrCreate()"
      ],
      "outputs": [],
      "metadata": {
        "id": "DUZZlDSl9qPy"
      }
    },
    {
      "cell_type": "code",
      "execution_count": null,
      "source": [
        "# Import struct fields that we can use\n",
        "from pyspark.sql.types import *"
      ],
      "outputs": [],
      "metadata": {
        "id": "nFKd07hH9qTh"
      }
    },
    {
      "cell_type": "code",
      "execution_count": null,
      "source": [
        "schema = [StructField(\"marketplace\", StringType(), True),\n",
        "          StructField(\"customer_id\", IntegerType(), True),\n",
        "          StructField(\"review_id\", StringType(), True),\n",
        "          StructField(\"product_id\", IntegerType(), True),\n",
        "          StructField(\"product_parent\", IntegerType(), True),\n",
        "          StructField(\"product_title\", StringType(), True),\n",
        "          StructField(\"product_category\", StringType(), True),\n",
        "          StructField(\"star_rating\", IntegerType(), True),\n",
        "          StructField(\"helpful_votes\", IntegerType(), True),\n",
        "          StructField(\"total_votes\", IntegerType(), True),\n",
        "          StructField(\"vine\", StringType(), True),\n",
        "          StructField(\"verified_purchase\", StringType(), True),\n",
        "          StructField(\"review_headline\", StringType(), True),\n",
        "          StructField(\"review_body\", StringType(), True),\n",
        "          StructField(\"review_date\", DateType(), True)]\n",
        "\n",
        "final = StructType(fields=schema)"
      ],
      "outputs": [],
      "metadata": {
        "id": "KzEJhjJb9qcN"
      }
    },
    {
      "cell_type": "code",
      "execution_count": null,
      "source": [
        "# Read in data from S3 Buckets\n",
        "from pyspark import SparkFiles\n",
        "url = \"https://s3.amazonaws.com/amazon-reviews-pds/tsv/amazon_reviews_us_Tools_v1_00.tsv.gz\"\n",
        "spark.sparkContext.addFile(url)\n",
        "df = spark.read.csv(SparkFiles.get(\"amazon_reviews_us_Tools_v1_00.tsv.gz\"), sep=\"\\t\", header=True,schema=final)\n",
        "\n",
        "# Show DataFrame\n",
        "df.show()"
      ],
      "outputs": [],
      "metadata": {
        "id": "nNQLodMQ9qnd"
      }
    },
    {
      "cell_type": "code",
      "execution_count": null,
      "source": [
        "df.dtypes"
      ],
      "outputs": [],
      "metadata": {
        "id": "Vqnzmqxn-vLg"
      }
    },
    {
      "cell_type": "code",
      "execution_count": null,
      "source": [
        "df.count()"
      ],
      "outputs": [],
      "metadata": {
        "id": "kV54iuXu9q3R"
      }
    },
    {
      "cell_type": "code",
      "execution_count": null,
      "source": [
        "from pyspark.sql.functions import desc, row_number, monotonically_increasing_id\n",
        "from pyspark.sql.window import Window\n",
        "\n",
        "df_with_seq_id = df.withColumn('customer_count', row_number().over(Window.orderBy(monotonically_increasing_id())))"
      ],
      "outputs": [],
      "metadata": {
        "id": "jz2Kljda9q-D"
      }
    },
    {
      "cell_type": "code",
      "execution_count": null,
      "source": [
        "df_with_seq_id.agg({'customer_count': 'max'}).show()"
      ],
      "outputs": [],
      "metadata": {
        "id": "AVepHiwg-H3m"
      }
    },
    {
      "cell_type": "code",
      "execution_count": null,
      "source": [
        "review_id_table=df.select(['review_id','customer_id','product_id','product_parent','review_date'])\n",
        "products=df.select(['product_id','product_title'])\n",
        "customers=df_with_seq_id.select(['customer_id','customer_count'])\n",
        "vine_table=df.select(['review_id','star_rating','helpful_votes','total_votes','vine'])"
      ],
      "outputs": [],
      "metadata": {
        "id": "M3B7aiWd-H-9"
      }
    },
    {
      "cell_type": "code",
      "execution_count": null,
      "source": [
        "# Configure settings for RDS\n",
        "mode = \"overwrite\"\n",
        "jdbc_url=\"jdbc:postgresql://localhost:5433/Big_Data_2\"\n",
        "config = {\"user\":\"postgres\", \n",
        "          \"password\": password, \n",
        "          \"driver\":\"org.postgresql.Driver\"}"
      ],
      "outputs": [],
      "metadata": {
        "id": "CN5Y_nVn-IHc"
      }
    },
    {
      "cell_type": "code",
      "execution_count": null,
      "source": [
        "review_id_table.write.jdbc(url=jdbc_url, table='review_id_table', mode=mode, properties=config)"
      ],
      "outputs": [],
      "metadata": {
        "id": "DKybb-2P-INk"
      }
    },
    {
      "cell_type": "code",
      "execution_count": null,
      "source": [
        "products.write.jdbc(url=jdbc_url, table='products', mode=mode, properties=config)"
      ],
      "outputs": [],
      "metadata": {
        "id": "Jt4VqFo3-ITi"
      }
    },
    {
      "cell_type": "code",
      "execution_count": null,
      "source": [
        "customers.write.jdbc(url=jdbc_url, table='customers', mode=mode, properties=config)"
      ],
      "outputs": [],
      "metadata": {
        "id": "5p95xiRK-IZX"
      }
    },
    {
      "cell_type": "code",
      "execution_count": null,
      "source": [
        "vine_table.write.jdbc(url=jdbc_url, table='vine_table', mode=mode, properties=config)"
      ],
      "outputs": [],
      "metadata": {
        "id": "N-9QweWI-Idz"
      }
    },
    {
      "cell_type": "code",
      "execution_count": null,
      "source": [],
      "outputs": [],
      "metadata": {
        "id": "fb1XCPYE-IlA"
      }
    }
  ]
}